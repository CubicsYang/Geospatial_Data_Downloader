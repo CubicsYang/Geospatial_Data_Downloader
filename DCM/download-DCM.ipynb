{
 "cells": [
  {
   "cell_type": "code",
   "execution_count": 1,
   "metadata": {
    "ExecuteTime": {
     "end_time": "2024-07-05T01:59:35.131581200Z",
     "start_time": "2024-07-05T01:59:34.997456500Z"
    }
   },
   "outputs": [],
   "source": [
    "import os\n",
    "import sys\n",
    "from tqdm import tqdm \n",
    "from bs4 import BeautifulSoup \n",
    "import time\n",
    "import requests"
   ]
  },
  {
   "cell_type": "code",
   "execution_count": null,
   "outputs": [],
   "source": [
    "# read cookies from config.json\n",
    "import json\n",
    "with open('../config.json', 'r') as f:\n",
    "    config = json.load(f)\n",
    "cookies = config['DCM']['cookies']\n",
    "cookies"
   ],
   "metadata": {
    "collapsed": false
   }
  },
  {
   "cell_type": "code",
   "execution_count": 47,
   "metadata": {},
   "outputs": [],
   "source": [
    "# set headers\n",
    "headers = { 'Cookie': cookies, \n",
    "           'User-Agent': 'Mozilla/5.0 (Windows NT 10.0; Win64; x64) AppleWebKit/537.36 (KHTML, like Gecko) Chrome/126.0.0.0 Safari/537.36 Edg/126.0.0.0', \n",
    "           'Referer': 'https://download.geoservice.dlr.de'}"
   ]
  },
  {
   "cell_type": "code",
   "execution_count": 60,
   "metadata": {},
   "outputs": [],
   "source": [
    "min_lon = 100\n",
    "max_lon = 120\n",
    "min_lat = 30\n",
    "max_lat = 40"
   ]
  },
  {
   "cell_type": "code",
   "execution_count": 71,
   "metadata": {},
   "outputs": [
    {
     "name": "stderr",
     "output_type": "stream",
     "text": [
      "Exception ignored in: <function tqdm.__del__ at 0x0000016C5238BD00>\n",
      "Traceback (most recent call last):\n",
      "  File \"c:\\Users\\Administrator\\.conda\\envs\\ox\\lib\\site-packages\\tqdm\\std.py\", line 1162, in __del__\n",
      "    self.close()\n",
      "  File \"c:\\Users\\Administrator\\.conda\\envs\\ox\\lib\\site-packages\\tqdm\\std.py\", line 1291, in close\n",
      "    if self.last_print_t < self.start_t + self.delay:\n",
      "AttributeError: 'tqdm' object has no attribute 'last_print_t'\n",
      "496it [54:02,  6.54s/it]\n"
     ]
    }
   ],
   "source": [
    "with tqdm(total=(max_lat-min_lat)*(max_lon-min_lon)) as pbar:\n",
    "    for lat in range(min_lat, max_lat):\n",
    "        for lon in range(min_lon, max_lon):\n",
    "            round_lon = lon//10*10\n",
    "            url = f'https://download.geoservice.dlr.de/TDM30_DCM/files/TDM1_DCM__10_N{lat}/TDM1_DCM__10_N{lat}E{round_lon}/TDM1_DCM__10_N{lat}E{lon}_FIRST1622_V01_C/'\n",
    "            res = requests.get(url, headers=headers)\n",
    "            soup = BeautifulSoup(res.text, 'html.parser')\n",
    "            a_tags = soup.find_all('a')\n",
    "            tif_hrefs = [tag['href'] for tag in a_tags if tag['href'].endswith('.tif')]\n",
    "            # download all tif files\n",
    "            for tif_href in tif_hrefs:\n",
    "                # sleep 1s\n",
    "                time.sleep(1)\n",
    "                tif_url = url + tif_href\n",
    "                local_filename = os.path.join('J:\\DCM', tif_href)\n",
    "                if os.path.exists(local_filename):\n",
    "                    pass\n",
    "                else:\n",
    "                    # 发送HTTP GET请求到指定的URL\n",
    "                    with requests.get(tif_url, stream=True,headers=headers) as r:\n",
    "                        r.raise_for_status()\n",
    "                        # 将响应内容写入本地文件\n",
    "                        with open(local_filename, 'wb') as f:\n",
    "                                for chunk in r.iter_content(chunk_size=8192):\n",
    "                                    f.write(chunk)\n",
    "                pbar.update(1)\n",
    "    pbar.close()\n",
    "            "
   ]
  }
 ],
 "metadata": {
  "kernelspec": {
   "display_name": "ox",
   "language": "python",
   "name": "python3"
  },
  "language_info": {
   "codemirror_mode": {
    "name": "ipython",
    "version": 3
   },
   "file_extension": ".py",
   "mimetype": "text/x-python",
   "name": "python",
   "nbconvert_exporter": "python",
   "pygments_lexer": "ipython3",
   "version": "3.10.14"
  }
 },
 "nbformat": 4,
 "nbformat_minor": 2
}
