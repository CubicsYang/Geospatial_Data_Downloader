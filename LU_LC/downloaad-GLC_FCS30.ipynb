{
 "cells": [
  {
   "cell_type": "code",
   "execution_count": 1,
   "id": "f2f223aa872d558e",
   "metadata": {
    "ExecuteTime": {
     "end_time": "2024-07-01T06:51:50.420546700Z",
     "start_time": "2024-07-01T06:51:50.407549700Z"
    },
    "collapsed": false
   },
   "outputs": [],
   "source": [
    "import os\n",
    "import sys\n",
    "import tqdm"
   ]
  },
  {
   "cell_type": "code",
   "execution_count": null,
   "outputs": [],
   "source": [
    "import json\n",
    "with open('../config.json', 'r') as f:\n",
    "    config = json.load(f)\n",
    "username = config['GLC_FCS30']['username']\n",
    "username"
   ],
   "metadata": {
    "collapsed": false
   },
   "id": "b2b414a62525269b"
  },
  {
   "cell_type": "code",
   "execution_count": null,
   "id": "d25f7fb6fc240c5",
   "metadata": {
    "collapsed": false
   },
   "outputs": [],
   "source": [
    "# get files id from url\n",
    "url = 'https://data.casearth.cn/api/getAllFileListBySdoId?sdoId=6123651428a58f70c2a51e49'\n",
    "# request url\n",
    "import requests\n",
    "response = requests.get(url)\n",
    "# get json data\n",
    "json_data = response.json()\n",
    "files = json_data['文件信息列表']\n",
    "files"
   ]
  },
  {
   "cell_type": "code",
   "execution_count": null,
   "id": "4154bf18a401bb4b",
   "metadata": {
    "collapsed": false
   },
   "outputs": [],
   "source": [
    "# download files\n",
    "for file in tqdm.tqdm(files):\n",
    "    id = file['id']\n",
    "    local_filename = file['filename']\n",
    "    url = f'http://data.casearth.cn/sdo/downloadOneFile?id={id}&username={username}'\n",
    "    def download_file(url, local_filename):\n",
    "        # 如果文件已存在，跳过下载\n",
    "            if os.path.exists(local_filename):\n",
    "                print(f'文件已存在: {local_filename}')\n",
    "                return local_filename\n",
    "            else:\n",
    "                # 发送HTTP GET请求到指定的URL\n",
    "                with requests.get(url, stream=True) as r:\n",
    "                    r.raise_for_status()\n",
    "                    # 将响应内容写入本地文件\n",
    "                    local_filename = os.path.join('data', local_filename)\n",
    "                    print(f'正在下载文件: {local_filename}')\n",
    "                    with open(local_filename, 'wb') as f:\n",
    "                            for chunk in r.iter_content(chunk_size=8192):\n",
    "                                f.write(chunk)\n",
    "            return local_filename\n",
    "\n",
    "    # 下载文件并保存到本地\n",
    "    download_file(url, local_filename)"
   ]
  }
 ],
 "metadata": {
  "kernelspec": {
   "display_name": "Python 3",
   "language": "python",
   "name": "python3"
  },
  "language_info": {
   "codemirror_mode": {
    "name": "ipython",
    "version": 3
   },
   "file_extension": ".py",
   "mimetype": "text/x-python",
   "name": "python",
   "nbconvert_exporter": "python",
   "pygments_lexer": "ipython3",
   "version": "3.10.2"
  }
 },
 "nbformat": 4,
 "nbformat_minor": 5
}
