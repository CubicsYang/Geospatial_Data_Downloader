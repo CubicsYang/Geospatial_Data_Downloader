{
 "cells": [
  {
   "cell_type": "code",
   "execution_count": 35,
   "metadata": {},
   "outputs": [],
   "source": [
    "import math\n",
    "import os\n",
    "import requests\n",
    "import cv2\n",
    "import numpy as np\n",
    "import warnings\n",
    "import tqdm\n",
    "warnings.filterwarnings(\"ignore\")"
   ]
  },
  {
   "cell_type": "code",
   "execution_count": 36,
   "metadata": {},
   "outputs": [],
   "source": [
    "# some utils\n",
    "def build_url(x, y, z):\n",
    "    return \"http://0pn.cn/maps/vt?lyrs=s&x={x}&y={y}&z={z}\".format(x=x, y=y, z=z)\n",
    "\n",
    "def lonlat2xyz(lon, lat, zoom):\n",
    "    n = math.pow(2, zoom)\n",
    "    x = ((lon + 180) / 360) * n\n",
    "    y = (1 - (math.log(math.tan(math.radians(lat)) + (1 / math.cos(math.radians(lat)))) / math.pi)) / 2 * n\n",
    "    return int(x), int(y)\n",
    "\n",
    "def xyz2lonlat(x, y, zoom):\n",
    "    n = math.pow(2, zoom)\n",
    "    lon = x / n * 360.0 - 180.0\n",
    "    lat = math.atan(math.sinh(math.pi * (1 - 2 * y / n)))\n",
    "    lat = lat * 180.0 / math.pi\n",
    "    return lon, lat\n",
    "\n",
    "\n",
    "def cal_tiff_box(x1, y1, x2, y2, zoom):\n",
    "    LT = xyz2lonlat(x1, y1, zoom)\n",
    "    RB = xyz2lonlat(x2 + 1, y2 + 1, zoom)\n",
    "    return LT[0], RB[1], RB[0], LT[1]"
   ]
  },
  {
   "cell_type": "code",
   "execution_count": 37,
   "metadata": {},
   "outputs": [],
   "source": [
    "# configs\n",
    "Path = '/Users/cubics/Geospatial_Data_Downloader/Google_Map_Tiles/data/'\n",
    "point_lt = (110.24582, 37.62737)\n",
    "point_rb = (110.37745, 37.53976)\n",
    "zoom = 16\n",
    "point_lt_x, point_lt_y = lonlat2xyz(point_lt[0], point_lt[1], zoom)\n",
    "point_rb_x, point_rb_y = lonlat2xyz(point_rb[0], point_rb[1], zoom)"
   ]
  },
  {
   "cell_type": "code",
   "execution_count": 38,
   "metadata": {},
   "outputs": [
    {
     "name": "stderr",
     "output_type": "stream",
     "text": [
      "100%|██████████| 550/550 [00:00<00:00, 4396.38it/s]\n"
     ]
    }
   ],
   "source": [
    "# batch download with tqdm\n",
    "with tqdm.tqdm(total=(point_rb_x - point_lt_x + 1) * (point_rb_y - point_lt_y + 1)) as pbar:\n",
    "    for x in range(point_lt_x, point_rb_x + 1):\n",
    "        for y in range(point_lt_y, point_rb_y + 1):\n",
    "            url = build_url(x, y, zoom)\n",
    "            path = Path + str(zoom) + '/' + str(x) + '/'\n",
    "            if not os.path.exists(path):\n",
    "                os.makedirs(path)\n",
    "            if os.path.exists(path + str(y) + '.png'):\n",
    "                pbar.update(1)\n",
    "                continue\n",
    "            else:     \n",
    "                r = requests.get(url,verify=False)\n",
    "                with open(path + str(y) + '.png', 'wb') as f:\n",
    "                    f.write(r.content)\n",
    "                pbar.update(1)"
   ]
  },
  {
   "cell_type": "code",
   "execution_count": 39,
   "metadata": {},
   "outputs": [
    {
     "data": {
      "text/plain": [
       "True"
      ]
     },
     "execution_count": 39,
     "metadata": {},
     "output_type": "execute_result"
    }
   ],
   "source": [
    "# merge tiles\n",
    "tiles = []\n",
    "for x in range(point_lt_x, point_rb_x + 1):\n",
    "    row = []\n",
    "    for y in range(point_lt_y, point_rb_y + 1):\n",
    "        img = cv2.imread(Path + str(zoom) + '/' + str(x) + '/' + str(y) + '.png')\n",
    "        row.append(img)\n",
    "    tiles.append(row)\n",
    "tiles = np.array(tiles)\n",
    "img = np.hstack([np.vstack(row) for row in tiles])\n",
    "cv2.imwrite(Path + str(zoom) + '/merged.png', img)"
   ]
  },
  {
   "cell_type": "code",
   "execution_count": 41,
   "metadata": {},
   "outputs": [
    {
     "name": "stdout",
     "output_type": "stream",
     "text": [
      "Input file size is 6400, 5632\n",
      "0...10...20...30...40...50...60...70...80...90...100 - done.\n"
     ]
    },
    {
     "data": {
      "text/plain": [
       "0"
      ]
     },
     "execution_count": 41,
     "metadata": {},
     "output_type": "execute_result"
    }
   ],
   "source": [
    "# using gdal to convert to tiff\n",
    "os.system('gdal_translate -of GTiff -a_srs EPSG:4326 -a_ullr {x1} {y1} {x2} {y2} {src} {dst}'.format(\n",
    "    x1=cal_tiff_box(point_lt_x, point_lt_y, point_rb_x, point_rb_y, zoom)[0],\n",
    "    y1=cal_tiff_box(point_lt_x, point_lt_y, point_rb_x, point_rb_y, zoom)[1],\n",
    "    x2=cal_tiff_box(point_lt_x, point_lt_y, point_rb_x, point_rb_y, zoom)[2],\n",
    "    y2=cal_tiff_box(point_lt_x, point_lt_y, point_rb_x, point_rb_y, zoom)[3],\n",
    "    src=Path + str(zoom) + '/merged.png',\n",
    "    dst=Path + str(zoom) + '/merged.tif'\n",
    "))"
   ]
  }
 ],
 "metadata": {
  "kernelspec": {
   "display_name": "ox",
   "language": "python",
   "name": "python3"
  },
  "language_info": {
   "codemirror_mode": {
    "name": "ipython",
    "version": 3
   },
   "file_extension": ".py",
   "mimetype": "text/x-python",
   "name": "python",
   "nbconvert_exporter": "python",
   "pygments_lexer": "ipython3",
   "version": "3.11.3"
  }
 },
 "nbformat": 4,
 "nbformat_minor": 2
}
